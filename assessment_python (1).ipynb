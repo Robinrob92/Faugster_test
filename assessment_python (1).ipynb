{
 "cells": [
  {
   "cell_type": "markdown",
   "metadata": {},
   "source": [
    "# 1/ load csv realestate_fraugster_case.csv\n",
    "# 2/ clean the data best you think \n",
    "# 3/ write a new csv with a similar name with the cleaned data \n",
    "# 4/ output the following answers: \n",
    "\ta. what is the distance (in meters) between the cheapest sale and the most recent sale?\n",
    "\tb. what is the median street number, in multi-family houses, sold between 05/11/1933 and 03/12/1998 , in Sacramento?\n",
    "\tc. what is the city name, and its 3 most common zip codes, that has the 2nd highest amount of beds sold? \n",
    "\n"
   ]
  },
  {
   "cell_type": "markdown",
   "metadata": {},
   "source": [
    "# Note \n",
    "\n",
    "### Size of the dataset:\n",
    "(986, 12)\n",
    "### Missing value: \n",
    "We have some missing values, some data are equal to zero we will have to know if it's a real missing data or a real 0. We will not take the risk to remove the missing values or replace due to the size of the dataset \n",
    "we will harmonize the missing data with NaN.\n",
    "### types\n",
    "A lot of columuns are not in a good format, before to convert it we will have to clean our columns\n",
    "\n",
    "\n"
   ]
  },
  {
   "cell_type": "code",
   "execution_count": 304,
   "metadata": {},
   "outputs": [],
   "source": [
    "import pandas as pd \n",
    "import numpy as np\n",
    "import seaborn as sns\n",
    "import string\n",
    "pd.set_option(\"max_rows\", None)"
   ]
  },
  {
   "cell_type": "code",
   "execution_count": 305,
   "metadata": {},
   "outputs": [],
   "source": [
    "\n",
    "punctuation = '!\"#$%&\\'()*+,./;<=>?@[\\\\]^_`{|}%~'\n",
    "#alphabet list\n",
    "a=ord('a')\n",
    "alph=[chr(i) for i in range(a,a+26)]\n",
    "#Upper alphabet\n",
    "alph_upper=[x.upper() for x in alph]\n",
    "alphabet=alph+alph_upper\n",
    "\n",
    "#state,type, cuty\n",
    "def pipeline_cleaning(test):\n",
    "    test=str(test)\n",
    "    test=test.upper()\n",
    "    test_punct_removed=[char for char in test if char not in string.punctuation]\n",
    "    test_punct_removed_join=''.join(test_punct_removed)\n",
    "    result = ''.join([i for i in test_punct_removed_join if not i.isdigit()])\n",
    "    return result\n",
    "\n",
    "\n",
    "def clean_date(x):\n",
    "    test_alphabet_removed=[char for char in x if char not in alphabet]\n",
    "    test_alphabet_removed_join=''.join(test_alphabet_removed)\n",
    "    test_punc_removed=[char for char in test_alphabet_removed_join if char not in punctuation]\n",
    "    test_punc_removed_join=''.join(test_punc_removed)\n",
    "    result=pd.to_datetime(test_punc_removed_join, format='%Y/%m/%d')\n",
    "    return result\n",
    "\n",
    "\n",
    "def clean_zip(x):\n",
    "    x=str(x)\n",
    "    result = ''.join([i for i in x if i.isdigit()])\n",
    "    return result\n",
    "\n",
    "\n",
    "\n",
    "    "
   ]
  },
  {
   "cell_type": "markdown",
   "metadata": {},
   "source": [
    "# 1. load csv realestate_fraugster_case.csv"
   ]
  },
  {
   "cell_type": "code",
   "execution_count": 306,
   "metadata": {},
   "outputs": [],
   "source": [
    "data=pd.read_csv('realestate_fraugster_case.csv', sep=';')\n",
    "df=data.copy()"
   ]
  },
  {
   "cell_type": "code",
   "execution_count": 327,
   "metadata": {},
   "outputs": [
    {
     "data": {
      "text/html": [
       "<div>\n",
       "<style scoped>\n",
       "    .dataframe tbody tr th:only-of-type {\n",
       "        vertical-align: middle;\n",
       "    }\n",
       "\n",
       "    .dataframe tbody tr th {\n",
       "        vertical-align: top;\n",
       "    }\n",
       "\n",
       "    .dataframe thead th {\n",
       "        text-align: right;\n",
       "    }\n",
       "</style>\n",
       "<table border=\"1\" class=\"dataframe\">\n",
       "  <thead>\n",
       "    <tr style=\"text-align: right;\">\n",
       "      <th></th>\n",
       "      <th>street</th>\n",
       "      <th>city</th>\n",
       "      <th>zip</th>\n",
       "      <th>state</th>\n",
       "      <th>beds</th>\n",
       "      <th>baths</th>\n",
       "      <th>sq__ft</th>\n",
       "      <th>type</th>\n",
       "      <th>sale_date</th>\n",
       "      <th>price</th>\n",
       "      <th>latitude</th>\n",
       "      <th>longitude</th>\n",
       "    </tr>\n",
       "  </thead>\n",
       "  <tbody>\n",
       "    <tr>\n",
       "      <td>0</td>\n",
       "      <td>3526 HIGH ST</td>\n",
       "      <td>SACRAMENTO</td>\n",
       "      <td>95838</td>\n",
       "      <td>CA</td>\n",
       "      <td>2.0</td>\n",
       "      <td>1.0</td>\n",
       "      <td>836.0</td>\n",
       "      <td>RESIDENTIAL</td>\n",
       "      <td>1943-01-09 11:56:01</td>\n",
       "      <td>59222.0</td>\n",
       "      <td>38.631913</td>\n",
       "      <td>-121.434879</td>\n",
       "    </tr>\n",
       "    <tr>\n",
       "      <td>1</td>\n",
       "      <td>51 OMAHA CT</td>\n",
       "      <td>SACRAMENTO</td>\n",
       "      <td>95823</td>\n",
       "      <td>CA</td>\n",
       "      <td>3.0</td>\n",
       "      <td>1.0</td>\n",
       "      <td>1167.0</td>\n",
       "      <td>RESIDENTIAL</td>\n",
       "      <td>1996-11-08 23:09:38</td>\n",
       "      <td>68212.0</td>\n",
       "      <td>38.478902</td>\n",
       "      <td>-121.431028</td>\n",
       "    </tr>\n",
       "    <tr>\n",
       "      <td>2</td>\n",
       "      <td>2796 BRANCH ST</td>\n",
       "      <td>SACRAMENTO</td>\n",
       "      <td>95815</td>\n",
       "      <td>CA</td>\n",
       "      <td>2.0</td>\n",
       "      <td>1.0</td>\n",
       "      <td>796.0</td>\n",
       "      <td>RESIDENTIAL</td>\n",
       "      <td>1915-01-05 07:31:45</td>\n",
       "      <td>68880.0</td>\n",
       "      <td>38.618305</td>\n",
       "      <td>-121.443839</td>\n",
       "    </tr>\n",
       "    <tr>\n",
       "      <td>3</td>\n",
       "      <td>2805 JANETTE WAY</td>\n",
       "      <td>SACRAMENTO</td>\n",
       "      <td>95815</td>\n",
       "      <td>CA</td>\n",
       "      <td>2.0</td>\n",
       "      <td>1.0</td>\n",
       "      <td>852.0</td>\n",
       "      <td>RESIDENTIAL</td>\n",
       "      <td>1998-10-22 04:46:05</td>\n",
       "      <td>69307.0</td>\n",
       "      <td>38.616835</td>\n",
       "      <td>-121.439146</td>\n",
       "    </tr>\n",
       "    <tr>\n",
       "      <td>4</td>\n",
       "      <td>6001 MCMAHON DR</td>\n",
       "      <td>SACRAMENTO</td>\n",
       "      <td>95824</td>\n",
       "      <td>CA</td>\n",
       "      <td>2.0</td>\n",
       "      <td>1.0</td>\n",
       "      <td>797.0</td>\n",
       "      <td>RESIDENTIAL</td>\n",
       "      <td>1972-01-05 20:52:32</td>\n",
       "      <td>81900.0</td>\n",
       "      <td>38.51947</td>\n",
       "      <td>-121.435768</td>\n",
       "    </tr>\n",
       "  </tbody>\n",
       "</table>\n",
       "</div>"
      ],
      "text/plain": [
       "             street        city    zip state  beds  baths  sq__ft  \\\n",
       "0      3526 HIGH ST  SACRAMENTO  95838    CA   2.0    1.0   836.0   \n",
       "1       51 OMAHA CT  SACRAMENTO  95823    CA   3.0    1.0  1167.0   \n",
       "2    2796 BRANCH ST  SACRAMENTO  95815    CA   2.0    1.0   796.0   \n",
       "3  2805 JANETTE WAY  SACRAMENTO  95815    CA   2.0    1.0   852.0   \n",
       "4   6001 MCMAHON DR  SACRAMENTO  95824    CA   2.0    1.0   797.0   \n",
       "\n",
       "          type           sale_date    price   latitude    longitude  \n",
       "0  RESIDENTIAL 1943-01-09 11:56:01  59222.0  38.631913  -121.434879  \n",
       "1  RESIDENTIAL 1996-11-08 23:09:38  68212.0  38.478902  -121.431028  \n",
       "2  RESIDENTIAL 1915-01-05 07:31:45  68880.0  38.618305  -121.443839  \n",
       "3  RESIDENTIAL 1998-10-22 04:46:05  69307.0  38.616835  -121.439146  \n",
       "4  RESIDENTIAL 1972-01-05 20:52:32  81900.0   38.51947  -121.435768  "
      ]
     },
     "execution_count": 327,
     "metadata": {},
     "output_type": "execute_result"
    }
   ],
   "source": [
    "df.head()"
   ]
  },
  {
   "cell_type": "code",
   "execution_count": 308,
   "metadata": {},
   "outputs": [
    {
     "data": {
      "text/plain": [
       "(986, 12)"
      ]
     },
     "execution_count": 308,
     "metadata": {},
     "output_type": "execute_result"
    }
   ],
   "source": [
    "df.shape"
   ]
  },
  {
   "cell_type": "markdown",
   "metadata": {},
   "source": [
    "Very small Dataset 986 lines, a lot of non numeric elements are in the numeric columnand numeric element in non numeric column "
   ]
  },
  {
   "cell_type": "code",
   "execution_count": 309,
   "metadata": {},
   "outputs": [
    {
     "data": {
      "text/plain": [
       "street        object\n",
       "city          object\n",
       "zip           object\n",
       "state         object\n",
       "beds         float64\n",
       "baths        float64\n",
       "sq__ft       float64\n",
       "type          object\n",
       "sale_date     object\n",
       "price         object\n",
       "latitude      object\n",
       "longitude     object\n",
       "dtype: object"
      ]
     },
     "execution_count": 309,
     "metadata": {},
     "output_type": "execute_result"
    }
   ],
   "source": [
    "df.dtypes"
   ]
  },
  {
   "cell_type": "markdown",
   "metadata": {},
   "source": [
    "### observation\n",
    "A lot of numerics elements are not in the good format like price, lattitude, longitude, sale_date etc"
   ]
  },
  {
   "cell_type": "markdown",
   "metadata": {},
   "source": [
    "# 2. clean the data best you think"
   ]
  },
  {
   "cell_type": "markdown",
   "metadata": {},
   "source": [
    "### state, type, city\n",
    "We need to create a pipeline to:\n",
    "<li>transform the column in a string format</li>\n",
    "<li>Use only upper case</li>\n",
    "<li>remove the punctuation</li>\n",
    "<li>remove the digit</li>"
   ]
  },
  {
   "cell_type": "code",
   "execution_count": 310,
   "metadata": {},
   "outputs": [],
   "source": [
    "df['state']=df['state'].apply(pipeline_cleaning)\n",
    "df['type']=df['type'].apply(pipeline_cleaning)\n",
    "df['city']=df['city'].apply(pipeline_cleaning)"
   ]
  },
  {
   "cell_type": "markdown",
   "metadata": {},
   "source": [
    "### zip code "
   ]
  },
  {
   "cell_type": "code",
   "execution_count": 311,
   "metadata": {},
   "outputs": [],
   "source": [
    "df['zip']=df['zip'].apply(clean_zip)"
   ]
  },
  {
   "cell_type": "markdown",
   "metadata": {},
   "source": [
    "### sale date \n",
    "we need to create a function to:\n",
    "<li>clean the column (string, symbol etc)</li>\n",
    "<li>Put the column in a time format</li>"
   ]
  },
  {
   "cell_type": "code",
   "execution_count": 312,
   "metadata": {},
   "outputs": [],
   "source": [
    "df['sale_date']=df['sale_date'].apply(clean_date)"
   ]
  },
  {
   "cell_type": "markdown",
   "metadata": {},
   "source": [
    "### Price\n",
    "We keep only the digits in a type float"
   ]
  },
  {
   "cell_type": "code",
   "execution_count": 313,
   "metadata": {},
   "outputs": [],
   "source": [
    "\n",
    "df['price'] = (df['price'].str.replace(r'\\D', '')).astype(float)"
   ]
  },
  {
   "cell_type": "markdown",
   "metadata": {},
   "source": [
    "### Baths\n",
    "We have some elements with 0 bedroom it could be a studio so we will not replace it, for the bathroom the problem is different we can see that the way the 0 are recorded seems suspsicious we have a series of zero for a specific district, we cannot contact the data provider we will just replace by np.nan for the moment."
   ]
  },
  {
   "cell_type": "code",
   "execution_count": 314,
   "metadata": {},
   "outputs": [],
   "source": [
    "df['baths'].replace(0, np.nan, inplace=True)"
   ]
  },
  {
   "cell_type": "markdown",
   "metadata": {},
   "source": [
    "A sq__ft of 0 is something impossible, we need to replace le 0 value by nan to specify we don't know the value"
   ]
  },
  {
   "cell_type": "markdown",
   "metadata": {},
   "source": [
    "### Square feet"
   ]
  },
  {
   "cell_type": "code",
   "execution_count": 315,
   "metadata": {},
   "outputs": [],
   "source": [
    "df['sq__ft'].replace(0, np.nan, inplace=True)"
   ]
  },
  {
   "cell_type": "markdown",
   "metadata": {},
   "source": [
    "For the street element we can see that few streets are recorded as E st or 1st street after looking on internet it seems that this 2 streets exists."
   ]
  },
  {
   "cell_type": "markdown",
   "metadata": {},
   "source": [
    "### Missing value\n",
    "We will remove or replace any missing value, with the last steps we harmonized the missing value.\n"
   ]
  },
  {
   "cell_type": "code",
   "execution_count": 316,
   "metadata": {},
   "outputs": [
    {
     "data": {
      "text/plain": [
       "street       0.001014\n",
       "city         0.000000\n",
       "zip          0.000000\n",
       "state        0.000000\n",
       "beds         0.001014\n",
       "baths        0.110548\n",
       "sq__ft       0.174442\n",
       "type         0.000000\n",
       "sale_date    0.000000\n",
       "price        0.001014\n",
       "latitude     0.001014\n",
       "longitude    0.001014\n",
       "dtype: float64"
      ]
     },
     "execution_count": 316,
     "metadata": {},
     "output_type": "execute_result"
    }
   ],
   "source": [
    "df.isna().sum()/df.shape[0]"
   ]
  },
  {
   "cell_type": "markdown",
   "metadata": {},
   "source": [
    "### Strategy against missing value\n",
    "Before to use a strategy for missing value like apply an imputer from sklearn, fillna() or dropna() I need to get more information about the purpose of the study, I prefer to keep the dataset with NaN until to get new information"
   ]
  },
  {
   "cell_type": "markdown",
   "metadata": {},
   "source": [
    "# 3/ write a new csv with a similar name with the cleaned data"
   ]
  },
  {
   "cell_type": "code",
   "execution_count": 317,
   "metadata": {},
   "outputs": [
    {
     "name": "stdout",
     "output_type": "stream",
     "text": [
      "save\n"
     ]
    }
   ],
   "source": [
    "df.to_csv(r'/Users/robin/Desktop/fraugster/clean_df.csv', index = False)\n",
    "print('save')"
   ]
  },
  {
   "cell_type": "markdown",
   "metadata": {},
   "source": [
    "# 4/ output the following answers:\n",
    "\n",
    "## a. what is the distance (in meters) between the cheapest sale and the most recent sale?\n"
   ]
  },
  {
   "cell_type": "code",
   "execution_count": 318,
   "metadata": {},
   "outputs": [
    {
     "data": {
      "text/plain": [
       "1551.0"
      ]
     },
     "execution_count": 318,
     "metadata": {},
     "output_type": "execute_result"
    }
   ],
   "source": [
    "cheapest_price=df['price'].min()\n",
    "cheapest_price"
   ]
  },
  {
   "cell_type": "code",
   "execution_count": 319,
   "metadata": {},
   "outputs": [
    {
     "data": {
      "text/plain": [
       "Timestamp('2019-11-01 23:37:06')"
      ]
     },
     "execution_count": 319,
     "metadata": {},
     "output_type": "execute_result"
    }
   ],
   "source": [
    "recent_date = df['sale_date'].max()\n",
    "recent_date"
   ]
  },
  {
   "cell_type": "code",
   "execution_count": 320,
   "metadata": {},
   "outputs": [
    {
     "name": "stdout",
     "output_type": "stream",
     "text": [
      "                   street     city    zip state  beds  baths  sq__ft  \\\n",
      "865  3720 VISTA DE MADERA  LINCOLN  95648    CA   3.0    3.0     NaN   \n",
      "\n",
      "            type           sale_date   price   latitude    longitude  \n",
      "865  RESIDENTIAL 1925-12-05 14:57:47  1551.0  38.851645  -121.231742                    street     city    zip state  beds  baths  sq__ft  \\\n",
      "561  48 CRYSTALWOOD CIR  LINCOLN  95648    CA   0.0    NaN     NaN   \n",
      "\n",
      "            type           sale_date   price   latitude    longitude  \n",
      "561  RESIDENTIAL 2019-11-01 23:37:06  4897.0  38.884667  -121.289896  \n"
     ]
    }
   ],
   "source": [
    "cheapest=df.loc[(df[\"price\"]==cheapest_price)]\n",
    "recent=df.loc[(df[\"sale_date\"]==recent_date)]\n",
    "print(cheapest, recent)"
   ]
  },
  {
   "cell_type": "code",
   "execution_count": 321,
   "metadata": {},
   "outputs": [
    {
     "name": "stdout",
     "output_type": "stream",
     "text": [
      "The distance between the cheapest sale and the most recent sale is 9301048.898407102 meters\n"
     ]
    }
   ],
   "source": [
    "import geopy.distance\n",
    "\n",
    "coords_1 = (38.851645, -121.231742)\n",
    "coords_2 = (38.884667, 121.289896)\n",
    "\n",
    "print('The distance between the cheapest sale and the most recent sale is',geopy.distance.distance(coords_1, coords_2).m,'meters')\n",
    "\n"
   ]
  },
  {
   "cell_type": "markdown",
   "metadata": {},
   "source": [
    "## b. what is the median street number, in multi-family houses, sold between 05/11/1933 and 03/12/1998 , in Sacramento?\n"
   ]
  },
  {
   "cell_type": "code",
   "execution_count": 322,
   "metadata": {},
   "outputs": [
    {
     "data": {
      "text/html": [
       "<div>\n",
       "<style scoped>\n",
       "    .dataframe tbody tr th:only-of-type {\n",
       "        vertical-align: middle;\n",
       "    }\n",
       "\n",
       "    .dataframe tbody tr th {\n",
       "        vertical-align: top;\n",
       "    }\n",
       "\n",
       "    .dataframe thead th {\n",
       "        text-align: right;\n",
       "    }\n",
       "</style>\n",
       "<table border=\"1\" class=\"dataframe\">\n",
       "  <thead>\n",
       "    <tr style=\"text-align: right;\">\n",
       "      <th></th>\n",
       "      <th>street</th>\n",
       "      <th>city</th>\n",
       "      <th>zip</th>\n",
       "      <th>state</th>\n",
       "      <th>beds</th>\n",
       "      <th>baths</th>\n",
       "      <th>sq__ft</th>\n",
       "      <th>type</th>\n",
       "      <th>sale_date</th>\n",
       "      <th>price</th>\n",
       "      <th>latitude</th>\n",
       "      <th>longitude</th>\n",
       "    </tr>\n",
       "  </thead>\n",
       "  <tbody>\n",
       "    <tr>\n",
       "      <td>113</td>\n",
       "      <td>10158 CRAWFORD WAY</td>\n",
       "      <td>SACRAMENTO</td>\n",
       "      <td>95827</td>\n",
       "      <td>CA</td>\n",
       "      <td>4.0</td>\n",
       "      <td>4.0</td>\n",
       "      <td>2213.0</td>\n",
       "      <td>MULTIFAMILY</td>\n",
       "      <td>1953-04-21 02:32:12</td>\n",
       "      <td>297000.0</td>\n",
       "      <td>38.5703</td>\n",
       "      <td>-121.315735</td>\n",
       "    </tr>\n",
       "    <tr>\n",
       "      <td>353</td>\n",
       "      <td>2820 DEL PASO BLVD</td>\n",
       "      <td>SACRAMENTO</td>\n",
       "      <td>95815</td>\n",
       "      <td>CA</td>\n",
       "      <td>4.0</td>\n",
       "      <td>2.0</td>\n",
       "      <td>1404.0</td>\n",
       "      <td>MULTIFAMILY</td>\n",
       "      <td>1944-01-09 17:10:33</td>\n",
       "      <td>100000.0</td>\n",
       "      <td>38.617718</td>\n",
       "      <td>-121.440089</td>\n",
       "    </tr>\n",
       "    <tr>\n",
       "      <td>527</td>\n",
       "      <td>398 LINDLEY DR</td>\n",
       "      <td>SACRAMENTO</td>\n",
       "      <td>95815</td>\n",
       "      <td>CA</td>\n",
       "      <td>4.0</td>\n",
       "      <td>2.0</td>\n",
       "      <td>1744.0</td>\n",
       "      <td>MULTIFAMILY</td>\n",
       "      <td>1984-11-07 08:49:22</td>\n",
       "      <td>416767.0</td>\n",
       "      <td>38.622359</td>\n",
       "      <td>-121.457582</td>\n",
       "    </tr>\n",
       "  </tbody>\n",
       "</table>\n",
       "</div>"
      ],
      "text/plain": [
       "                 street        city    zip state  beds  baths  sq__ft  \\\n",
       "113  10158 CRAWFORD WAY  SACRAMENTO  95827    CA   4.0    4.0  2213.0   \n",
       "353  2820 DEL PASO BLVD  SACRAMENTO  95815    CA   4.0    2.0  1404.0   \n",
       "527      398 LINDLEY DR  SACRAMENTO  95815    CA   4.0    2.0  1744.0   \n",
       "\n",
       "            type           sale_date     price   latitude    longitude  \n",
       "113  MULTIFAMILY 1953-04-21 02:32:12  297000.0    38.5703  -121.315735  \n",
       "353  MULTIFAMILY 1944-01-09 17:10:33  100000.0  38.617718  -121.440089  \n",
       "527  MULTIFAMILY 1984-11-07 08:49:22  416767.0  38.622359  -121.457582  "
      ]
     },
     "execution_count": 322,
     "metadata": {},
     "output_type": "execute_result"
    }
   ],
   "source": [
    "dx_b=df[(df['type']=='MULTIFAMILY') & (df[\"city\"]=='SACRAMENTO')&(df[\"sale_date\"] > '1933-05-11') & (df[\"sale_date\"] < '1998-03-12')]\n",
    "dx_b"
   ]
  },
  {
   "cell_type": "code",
   "execution_count": 323,
   "metadata": {},
   "outputs": [
    {
     "name": "stdout",
     "output_type": "stream",
     "text": [
      "the median street number, in multi-family houses, sold between 05/11/1933 and 03/12/1998 , in Sacramento is: 2820.0\n"
     ]
    },
    {
     "name": "stderr",
     "output_type": "stream",
     "text": [
      "/opt/anaconda3/lib/python3.7/site-packages/ipykernel_launcher.py:1: SettingWithCopyWarning: \n",
      "A value is trying to be set on a copy of a slice from a DataFrame.\n",
      "Try using .loc[row_indexer,col_indexer] = value instead\n",
      "\n",
      "See the caveats in the documentation: http://pandas.pydata.org/pandas-docs/stable/user_guide/indexing.html#returning-a-view-versus-a-copy\n",
      "  \"\"\"Entry point for launching an IPython kernel.\n",
      "/opt/anaconda3/lib/python3.7/site-packages/ipykernel_launcher.py:2: SettingWithCopyWarning: \n",
      "A value is trying to be set on a copy of a slice from a DataFrame.\n",
      "Try using .loc[row_indexer,col_indexer] = value instead\n",
      "\n",
      "See the caveats in the documentation: http://pandas.pydata.org/pandas-docs/stable/user_guide/indexing.html#returning-a-view-versus-a-copy\n",
      "  \n"
     ]
    }
   ],
   "source": [
    "dx_b['number']=dx_b.street.str.split(' ').str[0]\n",
    "dx_b['number']=dx_b['number'].astype('int32')\n",
    "median_number=dx_b['number'].median()\n",
    "print('the median street number, in multi-family houses, sold between 05/11/1933 and 03/12/1998 , in Sacramento is:',median_number)"
   ]
  },
  {
   "cell_type": "markdown",
   "metadata": {},
   "source": [
    "## c. what is the city name, and its 3 most common zip codes, that has the 2nd highest amount of beds sold"
   ]
  },
  {
   "cell_type": "code",
   "execution_count": 324,
   "metadata": {},
   "outputs": [
    {
     "data": {
      "text/html": [
       "<div>\n",
       "<style scoped>\n",
       "    .dataframe tbody tr th:only-of-type {\n",
       "        vertical-align: middle;\n",
       "    }\n",
       "\n",
       "    .dataframe tbody tr th {\n",
       "        vertical-align: top;\n",
       "    }\n",
       "\n",
       "    .dataframe thead th {\n",
       "        text-align: right;\n",
       "    }\n",
       "</style>\n",
       "<table border=\"1\" class=\"dataframe\">\n",
       "  <thead>\n",
       "    <tr style=\"text-align: right;\">\n",
       "      <th></th>\n",
       "      <th>beds</th>\n",
       "    </tr>\n",
       "    <tr>\n",
       "      <th>city</th>\n",
       "      <th></th>\n",
       "    </tr>\n",
       "  </thead>\n",
       "  <tbody>\n",
       "    <tr>\n",
       "      <td>SACRAMENTO</td>\n",
       "      <td>1329.0</td>\n",
       "    </tr>\n",
       "    <tr>\n",
       "      <td>ELK GROVE</td>\n",
       "      <td>383.0</td>\n",
       "    </tr>\n",
       "    <tr>\n",
       "      <td>ROSEVILLE</td>\n",
       "      <td>133.0</td>\n",
       "    </tr>\n",
       "    <tr>\n",
       "      <td>CITRUS HEIGHTS</td>\n",
       "      <td>113.0</td>\n",
       "    </tr>\n",
       "    <tr>\n",
       "      <td>ANTELOPE</td>\n",
       "      <td>111.0</td>\n",
       "    </tr>\n",
       "  </tbody>\n",
       "</table>\n",
       "</div>"
      ],
      "text/plain": [
       "                  beds\n",
       "city                  \n",
       "SACRAMENTO      1329.0\n",
       "ELK GROVE        383.0\n",
       "ROSEVILLE        133.0\n",
       "CITRUS HEIGHTS   113.0\n",
       "ANTELOPE         111.0"
      ]
     },
     "execution_count": 324,
     "metadata": {},
     "output_type": "execute_result"
    }
   ],
   "source": [
    "dx_group=df[['city','beds']].groupby([\"city\"])\n",
    "dx_group_sum =dx_group.sum()\n",
    "dx_group_sum_sort=dx_group_sum.sort_values(by=['beds'],ascending=False)\n",
    "dx_group_sum_sort.head()"
   ]
  },
  {
   "cell_type": "markdown",
   "metadata": {},
   "source": [
    "ELK GROVE is the second city with the highest amount of bed sold"
   ]
  },
  {
   "cell_type": "markdown",
   "metadata": {},
   "source": [
    "### By most common zip codes I interpret as the one with most importants number of sales  "
   ]
  },
  {
   "cell_type": "code",
   "execution_count": 328,
   "metadata": {},
   "outputs": [
    {
     "data": {
      "text/html": [
       "<div>\n",
       "<style scoped>\n",
       "    .dataframe tbody tr th:only-of-type {\n",
       "        vertical-align: middle;\n",
       "    }\n",
       "\n",
       "    .dataframe tbody tr th {\n",
       "        vertical-align: top;\n",
       "    }\n",
       "\n",
       "    .dataframe thead th {\n",
       "        text-align: right;\n",
       "    }\n",
       "</style>\n",
       "<table border=\"1\" class=\"dataframe\">\n",
       "  <thead>\n",
       "    <tr style=\"text-align: right;\">\n",
       "      <th></th>\n",
       "      <th>street</th>\n",
       "      <th>city</th>\n",
       "      <th>zip</th>\n",
       "      <th>state</th>\n",
       "      <th>beds</th>\n",
       "      <th>baths</th>\n",
       "      <th>sq__ft</th>\n",
       "      <th>type</th>\n",
       "      <th>sale_date</th>\n",
       "      <th>price</th>\n",
       "      <th>latitude</th>\n",
       "      <th>longitude</th>\n",
       "    </tr>\n",
       "  </thead>\n",
       "  <tbody>\n",
       "    <tr>\n",
       "      <td>30</td>\n",
       "      <td>5201 LAGUNA OAKS DR Unit 140</td>\n",
       "      <td>ELK GROVE</td>\n",
       "      <td>95758</td>\n",
       "      <td>CA</td>\n",
       "      <td>2.0</td>\n",
       "      <td>2.0</td>\n",
       "      <td>1039.0</td>\n",
       "      <td>CONDO</td>\n",
       "      <td>1995-06-27 11:07:11</td>\n",
       "      <td>133000.0</td>\n",
       "      <td>38.423251</td>\n",
       "      <td>-121.444489</td>\n",
       "    </tr>\n",
       "    <tr>\n",
       "      <td>34</td>\n",
       "      <td>5201 LAGUNA OAKS DR Unit 162</td>\n",
       "      <td>ELK GROVE</td>\n",
       "      <td>95758</td>\n",
       "      <td>CA</td>\n",
       "      <td>2.0</td>\n",
       "      <td>2.0</td>\n",
       "      <td>1039.0</td>\n",
       "      <td>CONDO</td>\n",
       "      <td>1995-02-14 02:55:54</td>\n",
       "      <td>141000.0</td>\n",
       "      <td>38.423251</td>\n",
       "      <td>-121.444489</td>\n",
       "    </tr>\n",
       "    <tr>\n",
       "      <td>42</td>\n",
       "      <td>8718 ELK WAY</td>\n",
       "      <td>ELK GROVE</td>\n",
       "      <td>95624</td>\n",
       "      <td>CA</td>\n",
       "      <td>3.0</td>\n",
       "      <td>2.0</td>\n",
       "      <td>1056.0</td>\n",
       "      <td>RESIDENTIAL</td>\n",
       "      <td>1964-12-06 07:32:56</td>\n",
       "      <td>156896.0</td>\n",
       "      <td>38.41653</td>\n",
       "      <td>-121.379653</td>\n",
       "    </tr>\n",
       "    <tr>\n",
       "      <td>50</td>\n",
       "      <td>9417 SARA ST</td>\n",
       "      <td>ELK GROVE</td>\n",
       "      <td>95624</td>\n",
       "      <td>CA</td>\n",
       "      <td>3.0</td>\n",
       "      <td>2.0</td>\n",
       "      <td>1188.0</td>\n",
       "      <td>RESIDENTIAL</td>\n",
       "      <td>1913-11-26 14:12:17</td>\n",
       "      <td>170000.0</td>\n",
       "      <td>38.415518</td>\n",
       "      <td>-121.370527</td>\n",
       "    </tr>\n",
       "    <tr>\n",
       "      <td>66</td>\n",
       "      <td>7005 TIANT % WAY</td>\n",
       "      <td>ELK GROVE</td>\n",
       "      <td>95758</td>\n",
       "      <td>CA</td>\n",
       "      <td>3.0</td>\n",
       "      <td>2.0</td>\n",
       "      <td>1586.0</td>\n",
       "      <td>RESIDENTIAL</td>\n",
       "      <td>1911-11-05 06:37:27</td>\n",
       "      <td>194000.0</td>\n",
       "      <td>38.422811</td>\n",
       "      <td>-121.423285</td>\n",
       "    </tr>\n",
       "  </tbody>\n",
       "</table>\n",
       "</div>"
      ],
      "text/plain": [
       "                          street       city    zip state  beds  baths  sq__ft  \\\n",
       "30  5201 LAGUNA OAKS DR Unit 140  ELK GROVE  95758    CA   2.0    2.0  1039.0   \n",
       "34  5201 LAGUNA OAKS DR Unit 162  ELK GROVE  95758    CA   2.0    2.0  1039.0   \n",
       "42                  8718 ELK WAY  ELK GROVE  95624    CA   3.0    2.0  1056.0   \n",
       "50                  9417 SARA ST  ELK GROVE  95624    CA   3.0    2.0  1188.0   \n",
       "66              7005 TIANT % WAY  ELK GROVE  95758    CA   3.0    2.0  1586.0   \n",
       "\n",
       "           type           sale_date     price   latitude    longitude  \n",
       "30        CONDO 1995-06-27 11:07:11  133000.0  38.423251  -121.444489  \n",
       "34        CONDO 1995-02-14 02:55:54  141000.0  38.423251  -121.444489  \n",
       "42  RESIDENTIAL 1964-12-06 07:32:56  156896.0   38.41653  -121.379653  \n",
       "50  RESIDENTIAL 1913-11-26 14:12:17  170000.0  38.415518  -121.370527  \n",
       "66  RESIDENTIAL 1911-11-05 06:37:27  194000.0  38.422811  -121.423285  "
      ]
     },
     "execution_count": 328,
     "metadata": {},
     "output_type": "execute_result"
    }
   ],
   "source": [
    "dx_ELK_GROVE=df.loc[(df[\"city\"]=='ELK GROVE')]\n",
    "dx_ELK_GROVE.head()"
   ]
  },
  {
   "cell_type": "markdown",
   "metadata": {},
   "source": [
    "The city name, and its 3 most common zip codes, that has the 2nd highest amount of beds sold are:"
   ]
  },
  {
   "cell_type": "code",
   "execution_count": 326,
   "metadata": {},
   "outputs": [
    {
     "data": {
      "text/plain": [
       "95758    44\n",
       "95757    36\n",
       "95624    34\n",
       "Name: zip, dtype: int64"
      ]
     },
     "execution_count": 326,
     "metadata": {},
     "output_type": "execute_result"
    }
   ],
   "source": [
    "dx_ELK_GROVE['zip'].value_counts()"
   ]
  },
  {
   "cell_type": "code",
   "execution_count": null,
   "metadata": {},
   "outputs": [],
   "source": []
  }
 ],
 "metadata": {
  "kernelspec": {
   "display_name": "Python 3",
   "language": "python",
   "name": "python3"
  },
  "language_info": {
   "codemirror_mode": {
    "name": "ipython",
    "version": 3
   },
   "file_extension": ".py",
   "mimetype": "text/x-python",
   "name": "python",
   "nbconvert_exporter": "python",
   "pygments_lexer": "ipython3",
   "version": "3.7.4"
  }
 },
 "nbformat": 4,
 "nbformat_minor": 2
}
